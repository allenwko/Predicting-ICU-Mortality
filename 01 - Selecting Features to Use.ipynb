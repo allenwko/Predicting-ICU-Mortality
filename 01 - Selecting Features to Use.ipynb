{
 "cells": [
  {
   "cell_type": "code",
   "execution_count": 15,
   "metadata": {
    "collapsed": true
   },
   "outputs": [],
   "source": [
    "#for looking at the data \n",
    "import pandas as pd\n",
    "import matplotlib.pyplot as plt\n",
    "%matplotlib inline\n",
    "\n",
    "#for connecting to PSQL databse\n",
    "from sqlalchemy import create_engine\n",
    "from sqlalchemy.engine.url import URL\n",
    "\n",
    "#for keeping an eye on how long some queries need to run\n",
    "import time\n",
    "\n",
    "#working with json files\n",
    "import json"
   ]
  },
  {
   "cell_type": "markdown",
   "metadata": {},
   "source": [
    "Set up connection to PSQL database"
   ]
  },
  {
   "cell_type": "code",
   "execution_count": 2,
   "metadata": {
    "collapsed": true
   },
   "outputs": [],
   "source": [
    "def db_connect():\n",
    "    \"\"\"\n",
    "    Performs database connection using database settings from settings.py.\n",
    "    Returns sqlalchemy engine instance\n",
    "    \"\"\"\n",
    "    return create_engine('postgresql://mimic@localhost/mimic')\n",
    "\n",
    "db = db_connect()"
   ]
  },
  {
   "cell_type": "markdown",
   "metadata": {},
   "source": [
    "Let's take a look at which itemids are most popular. Based on what itemids we have, we can apply some medical expertise to pick the most important ones. \n",
    "\n",
    "Unfortunately, this query takes a super long time to run. We'll time it to check how long. "
   ]
  },
  {
   "cell_type": "code",
   "execution_count": 4,
   "metadata": {
    "collapsed": false
   },
   "outputs": [
    {
     "name": "stdout",
     "output_type": "stream",
     "text": [
      "12209.918963\n"
     ]
    }
   ],
   "source": [
    "que = '''select itemid, count(distinct subject_id) as num_patients\n",
    "        from chartevents \n",
    "        group by itemid '''\n",
    "start_time = time.time()\n",
    "itemcount_df = pd.read_sql(que, db)\n",
    "print time.time() - start_time"
   ]
  },
  {
   "cell_type": "code",
   "execution_count": 12,
   "metadata": {
    "collapsed": false
   },
   "outputs": [
    {
     "data": {
      "text/plain": [
       "<matplotlib.axes._subplots.AxesSubplot at 0x11858c190>"
      ]
     },
     "execution_count": 12,
     "metadata": {},
     "output_type": "execute_result"
    },
    {
     "data": {
      "image/png": "[encoded data removed]",
      "text/plain": [
       "<matplotlib.figure.Figure at 0x115c339d0>"
      ]
     },
     "metadata": {},
     "output_type": "display_data"
    }
   ],
   "source": [
    "itemcount_df.num_patients.hist(bins=40)"
   ]
  },
  {
   "cell_type": "markdown",
   "metadata": {},
   "source": [
    "A vast majority of itemids have just a few patients. Let's only focus on the itemids where there are lots of measurements."
   ]
  },
  {
   "cell_type": "markdown",
   "metadata": {},
   "source": [
    "We have two problems to solve:\n",
    "\n",
    "1. Feature selection\n",
    "2. Merging CareVue and Metavision databases\n",
    "    - Different itemids for the same measurement\n",
    "    - Different measurement units for the same measurement\n",
    "\n",
    "The solutions:\n",
    "\n",
    "1. I worked with a medical student (Sameh Saleh) to pick the top ~100 features that are important. \n",
    "2. Out of the top 100 features, we went through and manually matched different itemids and different measurement units. We looked at the most popular itemids and their labels in the d_items table. \n",
    "\n",
    "The resultant itemids are located in two files: \n",
    "- keep_items.txt: These are main items that we want\n",
    "- item_map.json: A dictionary of all the itemids we want to map together. All the itemids in the values should be changed to match the key.\n",
    "\n",
    "Before we match the itemids, we need to check to see if any units need to be transformed. "
   ]
  },
  {
   "cell_type": "markdown",
   "metadata": {},
   "source": [
    "Loading in item_map.json"
   ]
  },
  {
   "cell_type": "code",
   "execution_count": null,
   "metadata": {
    "collapsed": true
   },
   "outputs": [],
   "source": [
    "with open('item_map.json') as data_file:    \n",
    "    item_map1 = json.load(data_file)\n",
    "\n",
    "#jsons are a bit weird. We'll convert the keys to intergers. \n",
    "item_map = {}\n",
    "for key, value in item_map1.iteritems():\n",
    "    item_map[int(key)] = value"
   ]
  },
  {
   "cell_type": "markdown",
   "metadata": {},
   "source": [
    "Checking the units in the \"valueom\" column from chartevents for every key/value combo"
   ]
  },
  {
   "cell_type": "code",
   "execution_count": null,
   "metadata": {
    "collapsed": false
   },
   "outputs": [
    {
     "name": "stdout",
     "output_type": "stream",
     "text": [
      "18 560.68185091 31.1489959955"
     ]
    }
   ],
   "source": [
    "item_units = {}\n",
    "total = len(item_map)\n",
    "count = 0\n",
    "start_time = time.time()\n",
    "for key, value in item_map.iteritems():\n",
    "    count +=1 \n",
    "    print '\\r', count, time.time()- start_time, (time.time()- start_time)/count, \n",
    "    q_items = value + [key]\n",
    "    item_str = \", \".join([str(item) for item in q_items])\n",
    "    que = '''select valueuom from chartevents tablesample system(0.2) where itemid in (%s)''' % item_str\n",
    "    item_units[key] = pd.read_sql(que, db)['valueuom'].unique()\n",
    "    "
   ]
  },
  {
   "cell_type": "code",
   "execution_count": null,
   "metadata": {
    "collapsed": true
   },
   "outputs": [],
   "source": [
    "for key, value in item_units.iteritems():\n",
    "    if all(value): #checks if nonetype is in list or not\n",
    "        if len(value) > 1:\n",
    "            print key, value\n",
    "    else:\n",
    "        if len(value) > 2:\n",
    "            print key, value"
   ]
  },
  {
   "cell_type": "markdown",
   "metadata": {},
   "source": [
    "## Notes from my inspection\n",
    "\n",
    "Need to investigate __639, 194, 223761, 218, 814, 223, 63, 141, 223835, 1534__\n",
    "- 639 : ml/B looks like ml/breath. Should be the same\n",
    "- 194 : has 224691 - really wierd distribution compared to 194, 195 (about 10x higher, but still have 0-10). dropping 224691 off of item_map for now.\n",
    "- 223761 : all the temperatures. need to change C to F before merging. \n",
    "- 218 : the period probably means none. why am i spending my life on periods. \n",
    "- 814 : no diff between g/dl and gm/dl\n",
    "- 223 : need to dissociate all with 223 ([669, 668, 667, 670, 671, 672]), they're all totally different units\n",
    "- 63 : L/min, cmH2O, lpm seem to be the same.\n",
    "    - Need to drop 68.\n",
    "    - Spin off 63/227581 into their own (bpm) \n",
    "    - 65 needs to be its own thing too. \n",
    "    - for 63, dropping everything but 227581\n",
    "    - making new id for 64, putting in 66, 67, 227579, 227580, 227582\n",
    "- 141 : no diff\n",
    "- 223835 : None and '%' units need to be converted. 'torr' unit ranges between 0.2 and 1, while None and % are from 20-100%... looks like we can convert 'Torr' (item 190) to just times *100*\n",
    "- 1534 : can combine all\n",
    "\n",
    "#### Summary: \n",
    "223835(torr) and 223761(temp) need conversion. All other dissociations were done along the way. \n",
    "\n",
    "Conversion strategy:\n",
    "    1. Convert everything in 223835 and 223761 (convert values with different units)\n",
    "    2. Change itemids for everything appropriately (match itemids in values to key)"
   ]
  },
  {
   "cell_type": "markdown",
   "metadata": {},
   "source": [
    "To do the changes, we'll make a PSQL script to run, to change everything on the server side. I copied the PSQL code into a .psql file and ran it in the command line.\n",
    "\n",
    "Here's the PSQL code for the unit conversion change:"
   ]
  },
  {
   "cell_type": "markdown",
   "metadata": {},
   "source": [
    "update chartevents set valuenum=valuenum*9/5+32, valueuom='?F' where itemid=676 or itemid=223762;\n",
    "update chartevents set valuenum=valuenum*100, valueuom='%' where itemid=190;"
   ]
  },
  {
   "cell_type": "markdown",
   "metadata": {},
   "source": [
    "And to map the itemids"
   ]
  },
  {
   "cell_type": "code",
   "execution_count": null,
   "metadata": {
    "collapsed": true
   },
   "outputs": [],
   "source": [
    "for key, value in item_map.iteritems():\n",
    "    for i in value:\n",
    "        '''copy into buffer chart, change itemid, copy into ce, delete buffer chart'''\n",
    "        print '''create table b_charts as select * from chartevents where itemid=%d;''' % i\n",
    "        print '''update b_charts set itemid=%d;''' % key\n",
    "        print '''insert into chartevents select * from b_charts;''' % key_chart\n",
    "        print '''drop table b_charts;\\n'''"
   ]
  }
 ],
 "metadata": {
  "kernelspec": {
   "display_name": "Python 2",
   "language": "python",
   "name": "python2"
  },
  "language_info": {
   "codemirror_mode": {
    "name": "ipython",
    "version": 2
   },
   "file_extension": ".py",
   "mimetype": "text/x-python",
   "name": "python",
   "nbconvert_exporter": "python",
   "pygments_lexer": "ipython2",
   "version": "2.7.12"
  }
 },
 "nbformat": 4,
 "nbformat_minor": 0
}
